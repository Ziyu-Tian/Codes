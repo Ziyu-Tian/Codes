{
 "cells": [
  {
   "cell_type": "markdown",
   "metadata": {},
   "source": [
    "###  I: Aims and Objectives\n",
    "\n",
    "The global aim of this project is to complete a functional Tsetlin Machine accelerator design implemented on PYNQ-Z1 FPGA board. For a typical classification task, the binary testing data should be transmitted into the ZYNQ-Z1, and the result of the class should be outputted back to user with the performance data (throughput, latency and power, etc) measured.\n",
    "\n",
    "- **RTL Synthesis and implementation of Tsetlin Machine**: Initiate the Verilog design of Tsetlin Machine algorithm, construct and package the functional TM module. Finish the regional test with simple datasets (such as XOR).\n",
    "\n",
    "\n",
    "- **Interconnection design and Circuits Simulation**: Apply interconnection wiring between the PYNQ-Z1 Processor Module, Tsetlin Machine IP and peripheral IO modules. Finish the first stage simulation and generate the sequential waves.\n",
    "\n",
    "\n",
    "- **Board level verification and Performance Analysis**: Base on the Tsetlin Machine Module design and interconnection modules, set the constraint file (.xdc) as well as the Verilog source file. Generate bitstream file and program the PYNQ-Z1 board. Measure and analyze the performance using monitoring software (eg.Xilinx Vivado).\n",
    "\n",
    "\n",
    "### II: Current Process \n",
    "\n",
    "#### 1: Training datasets in software TM"
   ]
  },
  {
   "cell_type": "markdown",
   "metadata": {},
   "source": [
    "Following the developing experience during last summer, I re-construct the Multi-class Tsetlin Machine Demo from https://github.com/cair/TsetlinMachineC. Compared to the original design, the refined TsetlinMachineC codes could print the accuracy during training process more conveniently, and it could generate the exclude_state table of the highest-accuracy epoch in txt form. I have posted all my refined codes in my Github repo: https://github.com/Ziyu-Tian/Codes/tree/main/Codes/C/TsetlinMachineC."
   ]
  },
  {
   "cell_type": "markdown",
   "metadata": {},
   "source": [
    "### 2: Verilog Model of Multi-class Tsetlin Machine\n",
    "\n",
    "Based on the most familiar TM model, i.e. the Multi-class TM, I have constructed a Verilog model for the further implementation. The first test was being carried on a simple XOR Gate. The simulation result could be seen as following.\n",
    "\n",
    "![](image/2023-12-14-22-16-22.png)"
   ]
  },
  {
   "cell_type": "markdown",
   "metadata": {},
   "source": [
    "After the simulation of XOR, I also produced another Verilog model for IRIS dataset. The simulation result could be expressed as following:\n",
    "![](image/2023-12-14-22-36-29.png)"
   ]
  },
  {
   "cell_type": "markdown",
   "metadata": {},
   "source": [
    "### 3: TM_Model Synthesis / Implementation on FPGA\n",
    "\n",
    "\n",
    "The iris dataset is being tested with max frequency of 50 Mhz with 0.947 ns WNS.\n",
    "![](image/2023-12-14-22-39-29.png)\n",
    "The longest path is caused by the Feature-input port, which could be optimized in further step:\n",
    "![](image/2023-12-14-22-42-51.png)\n",
    "The utilization could be estimated as:\n",
    "![](image/2023-12-14-22-44-13.png)\n",
    "\n",
    "Compared to the XOR datasets with max frequency 62.893 MHz:\n",
    "![](image/2023-12-14-22-45-37.png)\n",
    "![](image/2023-12-14-22-46-38.png)\n",
    "![](image/2023-12-14-22-47-08.png)"
   ]
  }
 ],
 "metadata": {
  "kernelspec": {
   "display_name": "Python 3",
   "language": "python",
   "name": "python3"
  },
  "language_info": {
   "name": "python",
   "version": "3.11.7"
  }
 },
 "nbformat": 4,
 "nbformat_minor": 2
}
