{
 "cells": [
  {
   "cell_type": "markdown",
   "metadata": {},
   "source": [
    "# Neural Networks Codes Implementation "
   ]
  },
  {
   "cell_type": "markdown",
   "metadata": {},
   "source": [
    "## 1: Libraries "
   ]
  },
  {
   "cell_type": "code",
   "execution_count": null,
   "metadata": {},
   "outputs": [],
   "source": [
    "import random\n",
    "import mnist_loader\n",
    "import numpy as np"
   ]
  },
  {
   "cell_type": "markdown",
   "metadata": {},
   "source": [
    "## 2: Class definition"
   ]
  },
  {
   "cell_type": "code",
   "execution_count": null,
   "metadata": {},
   "outputs": [],
   "source": [
    "class Network(object):"
   ]
  },
  {
   "cell_type": "markdown",
   "metadata": {},
   "source": [
    "### 2.1: Initialization "
   ]
  },
  {
   "cell_type": "code",
   "execution_count": null,
   "metadata": {},
   "outputs": [],
   "source": [
    "def __init__(self, sizes):\n",
    "    self.num_layers = len(sizes)\n",
    "    self.sizes = sizes\n",
    "    self.biases = [np.random.randn(y, 1) for y in sizes[1:]]\n",
    "        # randn(y,1) produce a y * 1 vector; 'size[1:]' means the list without first element [3,1]\n",
    "        # If list is [2,3,1], the biases matrix would be two random vector: 3 * 1 biases[0] and 1 * 1 biases[1]\n",
    "    self.weights = [np.random.randn(y, x)\n",
    "                for x, y in zip(sizes[:-1], sizes[1:])]\n",
    "        # zip([1,2],[3,4])) is [(1,3),(2,4)]; [:-1] is the list without last element i.e. [2,3]\n",
    "        # zip([2,3],[3,1]) = [(2,3),(3,1)], so weight[0] is 3 * 2 matrix, weight[1] is 1 *3 matrix"
   ]
  },
  {
   "cell_type": "markdown",
   "metadata": {},
   "source": [
    "For example of a $[2,3,1]$ neural networks with 2 neurons as input layers, hidden layers and 1 output layer.\n",
    "\n",
    "There should be two weight matrix with the order of "
   ]
  }
 ],
 "metadata": {
  "kernelspec": {
   "display_name": "Python 3",
   "language": "python",
   "name": "python3"
  },
  "language_info": {
   "name": "python",
   "version": "3.10.4"
  },
  "orig_nbformat": 4
 },
 "nbformat": 4,
 "nbformat_minor": 2
}
