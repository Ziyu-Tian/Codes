{
 "cells": [
  {
   "cell_type": "code",
   "execution_count": 2,
   "metadata": {},
   "outputs": [
    {
     "name": "stdout",
     "output_type": "stream",
     "text": [
      "[1 2 3]\n"
     ]
    }
   ],
   "source": [
    "import numpy as np\n",
    "a = np.array([1,2,3])\n",
    "print(a)"
   ]
  },
  {
   "cell_type": "code",
   "execution_count": 33,
   "metadata": {},
   "outputs": [
    {
     "name": "stdout",
     "output_type": "stream",
     "text": [
      "[2 3 4]\n"
     ]
    }
   ],
   "source": [
    "import numpy as np\n",
    "a = np.array([[1,1,1],[1,2,2],[1,3,3],[3,4,4]])\n",
    "uv = np.unique(a[:,1])[1:]\n",
    "print(uv)\n",
    "#uv = np.unique(a[:,1])[1:]\n",
    "#print(uv)"
   ]
  },
  {
   "cell_type": "code",
   "execution_count": 37,
   "metadata": {},
   "outputs": [
    {
     "name": "stdout",
     "output_type": "stream",
     "text": [
      "0\n"
     ]
    }
   ],
   "source": [
    "import numpy as np \n",
    "a = np.empty(0)\n",
    "s = a.size\n",
    "print(s)"
   ]
  },
  {
   "cell_type": "code",
   "execution_count": 69,
   "metadata": {},
   "outputs": [
    {
     "name": "stdout",
     "output_type": "stream",
     "text": [
      "[[1 1 1 ... 0 0 0]\n",
      " [1 1 0 ... 0 0 0]\n",
      " [1 1 0 ... 0 0 0]\n",
      " ...\n",
      " [1 1 1 ... 0 1 1]\n",
      " [1 1 1 ... 1 1 1]\n",
      " [1 1 1 ... 0 1 1]]\n"
     ]
    }
   ],
   "source": [
    "import numpy as np\n",
    "import pandas as pd\n",
    "from binarizer import StandardBinarizer\n",
    "\n",
    "def csv_to_Matrix(path):\n",
    "    x_Matrix = pd.read_csv(path, header=None)\n",
    "    x_Matrix = np.array(x_Matrix)\n",
    "    return x_Matrix\n",
    "\n",
    "x = csv_to_Matrix('IRIS.csv')\n",
    "#print(x)\n",
    "binarizer = StandardBinarizer(max_bits_per_feature=10)\n",
    "binarizer.fit(x)\n",
    "x = binarizer.transform(x)\n",
    "\n",
    "\n",
    "x = x.astype(int)\n",
    "print(x)\n",
    "\n"
   ]
  },
  {
   "cell_type": "markdown",
   "metadata": {},
   "source": []
  }
 ],
 "metadata": {
  "kernelspec": {
   "display_name": "Python 3",
   "language": "python",
   "name": "python3"
  },
  "language_info": {
   "codemirror_mode": {
    "name": "ipython",
    "version": 3
   },
   "file_extension": ".py",
   "mimetype": "text/x-python",
   "name": "python",
   "nbconvert_exporter": "python",
   "pygments_lexer": "ipython3",
   "version": "3.10.4"
  },
  "orig_nbformat": 4
 },
 "nbformat": 4,
 "nbformat_minor": 2
}
